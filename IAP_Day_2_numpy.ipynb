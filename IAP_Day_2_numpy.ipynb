{
  "nbformat": 4,
  "nbformat_minor": 0,
  "metadata": {
    "colab": {
      "provenance": [],
      "authorship_tag": "ABX9TyNrxLo3sCbVtGahcTcfTGxP",
      "include_colab_link": true
    },
    "kernelspec": {
      "name": "python3",
      "display_name": "Python 3"
    },
    "language_info": {
      "name": "python"
    }
  },
  "cells": [
    {
      "cell_type": "markdown",
      "metadata": {
        "id": "view-in-github",
        "colab_type": "text"
      },
      "source": [
        "<a href=\"https://colab.research.google.com/github/Gayatri-bit-bit/gayatri---Python/blob/main/IAP_Day_2_numpy.ipynb\" target=\"_parent\"><img src=\"https://colab.research.google.com/assets/colab-badge.svg\" alt=\"Open In Colab\"/></a>"
      ]
    },
    {
      "cell_type": "code",
      "source": [
        "import numpy as np\n",
        "# Step 1: Read an array from the user\n",
        "# Let's assume the user enters 9 elements for the matrix\n",
        "a = np.array([1, 2, 3, 4, 5, 6, 7, 8, 9])\n",
        "\n",
        "# Step 2: Display the array\n",
        "print(\"\\nOriginal Array:\")\n",
        "print(a)\n",
        "\n",
        "# Step 3: Resize the array to a 3x3 matrix\n",
        "a = a.reshape(3, 3)\n",
        "print(\"\\nResized to 3x3 Matrix:\")\n",
        "print(a)\n",
        "\n",
        "# Step 4: Create a random 3x3 matrix\n",
        "b = np.random.randint(1, 10, (3, 3))  # Generate random integers between 1 and 9\n",
        "print(\"\\nRandom 3x3 Matrix:\")\n",
        "print(b)\n",
        "\n",
        "# 5.1 Matrix Addition\n",
        "sum = np.add(a, b)\n",
        "print(\"\\nMatrix Addition (A + B):\")\n",
        "print(sum)\n",
        "# 5.2: Matrix Subtraction\n",
        "sub = np.subtract(a, b)\n",
        "print(\"\\nMatrix Subtraction (A - B):\")\n",
        "print(sub)\n",
        "\n",
        "\n",
        "# 5.3: Matrix Multiplication (Element-wise product)\n",
        "mul = np.dot(a, b)  # or you can use a @ b for matrix multiplication\n",
        "print(\"\\nMatrix Multiplication (a * b):\")\n",
        "print(mul)\n",
        "\n",
        "# 5.4: Cross Product (Only for 3x3 matrices, row-wise)\n",
        "cross = np.cross(a, b)\n",
        "print(\"\\nCross Product (Row-wise A x B):\")\n",
        "print(cross)\n",
        "\n",
        "# 5.5: Transpose of a matrix\n",
        "transpose_a = np.transpose(a)\n",
        "print(\"\\nTranspose of Matrix A:\")\n",
        "print(transpose_a)\n",
        "\n",
        "# 5.6: Determinant of Matrix A\n",
        "det_a = np.linalg.det(a)\n",
        "print(\"\\nDeterminant of Matrix A:\")\n",
        "print(det_a)\n",
        "\n",
        "# 5.7: Inverse of Matrix A\n",
        "if det_a != 0:  # Inverse exists only if determinant is non-zero\n",
        "    inv_a = np.linalg.inv(a)\n",
        "    print(\"\\nInverse of Matrix A:\")\n",
        "    print(inv_a)\n",
        "else:\n",
        "    print(\"\\nMatrix A has no inverse (Determinant is zero).\")\n",
        "\n"
      ],
      "metadata": {
        "colab": {
          "base_uri": "https://localhost:8080/"
        },
        "id": "CVYCMB1xOZRP",
        "outputId": "bafd7308-f012-42e8-a480-01dd4990bcbf"
      },
      "execution_count": 2,
      "outputs": [
        {
          "output_type": "stream",
          "name": "stdout",
          "text": [
            "\n",
            "Original Array:\n",
            "[1 2 3 4 5 6 7 8 9]\n",
            "\n",
            "Resized to 3x3 Matrix:\n",
            "[[1 2 3]\n",
            " [4 5 6]\n",
            " [7 8 9]]\n",
            "\n",
            "Random 3x3 Matrix:\n",
            "[[8 9 9]\n",
            " [2 1 2]\n",
            " [8 3 7]]\n",
            "\n",
            "Matrix Addition (A + B):\n",
            "[[ 9 11 12]\n",
            " [ 6  6  8]\n",
            " [15 11 16]]\n",
            "\n",
            "Matrix Subtraction (A - B):\n",
            "[[-7 -7 -6]\n",
            " [ 2  4  4]\n",
            " [-1  5  2]]\n",
            "\n",
            "Matrix Multiplication (a * b):\n",
            "[[ 36  20  34]\n",
            " [ 90  59  88]\n",
            " [144  98 142]]\n",
            "\n",
            "Cross Product (Row-wise A x B):\n",
            "[[ -9  15  -7]\n",
            " [  4   4  -6]\n",
            " [ 29  23 -43]]\n",
            "\n",
            "Transpose of Matrix A:\n",
            "[[1 4 7]\n",
            " [2 5 8]\n",
            " [3 6 9]]\n",
            "\n",
            "Determinant of Matrix A:\n",
            "0.0\n",
            "\n",
            "Matrix A has no inverse (Determinant is zero).\n"
          ]
        }
      ]
    }
  ]
}